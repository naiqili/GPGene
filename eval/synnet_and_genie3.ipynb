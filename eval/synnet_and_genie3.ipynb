{
 "cells": [
  {
   "cell_type": "code",
   "execution_count": 1,
   "metadata": {},
   "outputs": [],
   "source": [
    "from GENIE3 import *"
   ]
  },
  {
   "cell_type": "code",
   "execution_count": 5,
   "metadata": {},
   "outputs": [],
   "source": [
    "sizen = 200"
   ]
  },
  {
   "cell_type": "code",
   "execution_count": 6,
   "metadata": {},
   "outputs": [],
   "source": [
    "fname='/home/linaiqi/Lab/GPGene-TCBB/data/synthetic/synnet_and_data.txt'\n",
    "\n",
    "data0 = loadtxt(fname,skiprows=1)\n",
    "f = open(fname)\n",
    "gene_names = f.readline()\n",
    "f.close()\n",
    "gene_names = gene_names.rstrip('\\n').split('\\t')"
   ]
  },
  {
   "cell_type": "code",
   "execution_count": 7,
   "metadata": {},
   "outputs": [
    {
     "data": {
      "text/plain": [
       "(200, 3)"
      ]
     },
     "execution_count": 7,
     "metadata": {},
     "output_type": "execute_result"
    }
   ],
   "source": [
    "data = data0[:sizen]\n",
    "data.shape"
   ]
  },
  {
   "cell_type": "markdown",
   "metadata": {},
   "source": [
    "VIM = GENIE3(data)"
   ]
  },
  {
   "cell_type": "code",
   "execution_count": 8,
   "metadata": {},
   "outputs": [],
   "source": [
    "# # tree_method='RF'\n",
    "# tree_method='ET'\n",
    "# # Number of randomly chosen candidate regulators at each node of a tree\n",
    "# K = 10\n",
    "# # Number of trees per ensemble\n",
    "# ntrees = 50\n",
    "# # Run the method with these settings\n",
    "# VIM3 = GENIE3(data,tree_method=tree_method,K=K,ntrees=ntrees)"
   ]
  },
  {
   "cell_type": "code",
   "execution_count": 9,
   "metadata": {},
   "outputs": [
    {
     "name": "stdout",
     "output_type": "stream",
     "text": [
      "Tree method: RF\n",
      "K: sqrt\n",
      "Number of trees: 1000\n",
      "\n",
      "\n",
      "running single threaded jobs\n",
      "Gene 1/3...\n",
      "Gene 2/3...\n",
      "Gene 3/3...\n",
      "Elapsed time: 3.47 seconds\n"
     ]
    }
   ],
   "source": [
    "tree_method='RF'\n",
    "# tree_method='ET'\n",
    "# Number of randomly chosen candidate regulators at each node of a tree\n",
    "K = 'sqrt'\n",
    "# Number of trees per ensemble\n",
    "ntrees = 1000\n",
    "# Run the method with these settings\n",
    "VIM3 = GENIE3(data,tree_method=tree_method,K=K,ntrees=ntrees)"
   ]
  },
  {
   "cell_type": "markdown",
   "metadata": {},
   "source": [
    "help(GENIE3)"
   ]
  },
  {
   "cell_type": "markdown",
   "metadata": {},
   "source": [
    "get_link_list(VIM)"
   ]
  },
  {
   "cell_type": "code",
   "execution_count": 14,
   "metadata": {
    "scrolled": true
   },
   "outputs": [],
   "source": [
    "res=get_link_list(VIM3,gene_names=gene_names,file_name='./tmp.txt')"
   ]
  },
  {
   "cell_type": "code",
   "execution_count": 15,
   "metadata": {},
   "outputs": [
    {
     "name": "stdout",
     "output_type": "stream",
     "text": [
      "Loading default settings file\n",
      "Done\n",
      "Loaded network structure\n",
      "synnet_and (3 nodes, 2 edges)\n",
      "\n",
      "synnet_and                          AUPR = 0.3069 AUROC = 0.5000\n",
      "ByeBye!\n"
     ]
    }
   ],
   "source": [
    "! unset DISPLAY && java -jar ~/Lab/GNW/sandbox/gnw3-standalone.jar --evaluate --goldstandard /home/linaiqi/Lab/GPGene-TCBB/data/synthetic/synnet_and.tsv --prediction ./tmp.txt"
   ]
  },
  {
   "cell_type": "code",
   "execution_count": null,
   "metadata": {},
   "outputs": [],
   "source": []
  }
 ],
 "metadata": {
  "kernelspec": {
   "display_name": "Python 3",
   "language": "python",
   "name": "python3"
  },
  "language_info": {
   "codemirror_mode": {
    "name": "ipython",
    "version": 3
   },
   "file_extension": ".py",
   "mimetype": "text/x-python",
   "name": "python",
   "nbconvert_exporter": "python",
   "pygments_lexer": "ipython3",
   "version": "3.7.9"
  },
  "toc": {
   "base_numbering": 1,
   "nav_menu": {},
   "number_sections": true,
   "sideBar": true,
   "skip_h1_title": false,
   "title_cell": "Table of Contents",
   "title_sidebar": "Contents",
   "toc_cell": false,
   "toc_position": {},
   "toc_section_display": true,
   "toc_window_display": false
  }
 },
 "nbformat": 4,
 "nbformat_minor": 2
}
